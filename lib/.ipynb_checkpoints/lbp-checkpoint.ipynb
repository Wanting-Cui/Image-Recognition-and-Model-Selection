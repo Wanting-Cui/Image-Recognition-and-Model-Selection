{
 "cells": [
  {
   "cell_type": "code",
   "execution_count": 5,
   "metadata": {},
   "outputs": [],
   "source": [
    "    import cv2\n",
    "    from os import listdir\n",
    "    from skimage import feature\n",
    "    from scipy.stats import itemfreq\n",
    "    import pandas as pd\n",
    "    import os\n",
    "    \n",
    "    #img_dir='C:/Users/ding/Desktop/train/train/images'\n",
    "    img_dir='../data/image'\n",
    "    path1 =img_dir\n",
    "    image_lists = listdir(path1)[0:]\n",
    "    image_dir_list = []\n",
    "    for i in range(len(image_lists)):\n",
    "        image_dir_list.append(path1+'/'+image_lists[i])\n",
    "        \n",
    "    his = [] \n",
    "    for i in range(len(image_dir_list)):\n",
    "        im = cv2.imread(image_dir_list[i])\n",
    "        im_gray = cv2.cvtColor(im, cv2.COLOR_BGR2GRAY)\n",
    "        radius = 3\n",
    "        no_points = 8 * radius\n",
    "        lbp = feature.local_binary_pattern(im_gray, no_points, radius, method='uniform')\n",
    "        x = itemfreq(lbp.ravel())\n",
    "        hist = x[:, 1]/sum(x[:, 1])\n",
    "        his.append(hist)\n",
    "        #print(i)\n",
    "    \n",
    "    lbp_df=pd.DataFrame(his)\n",
    "    #lbp_df.to_csv(\"lbp_dxy\"+\".csv\",index=False)\n",
    "    path=r'../output/features2'\n",
    "    lbp_df.to_csv(os.path.join(path,r'lbp_test.csv'),index=False,header=False)"
   ]
  },
  {
   "cell_type": "code",
   "execution_count": null,
   "metadata": {},
   "outputs": [],
   "source": []
  }
 ],
 "metadata": {
  "kernelspec": {
   "display_name": "Python 3",
   "language": "python",
   "name": "python3"
  },
  "language_info": {
   "codemirror_mode": {
    "name": "ipython",
    "version": 3
   },
   "file_extension": ".py",
   "mimetype": "text/x-python",
   "name": "python",
   "nbconvert_exporter": "python",
   "pygments_lexer": "ipython3",
   "version": "3.6.4"
  }
 },
 "nbformat": 4,
 "nbformat_minor": 2
}
